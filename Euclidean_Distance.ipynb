{
 "cells": [
  {
   "cell_type": "markdown",
   "id": "d532d21e-2919-467d-9248-f6212c2d740c",
   "metadata": {},
   "source": [
    "# Euclidean Distance hesaplaması ödevi"
   ]
  },
  {
   "cell_type": "code",
   "execution_count": 40,
   "id": "0dfd252f-2afa-43f1-a434-f4f8ed384351",
   "metadata": {},
   "outputs": [
    {
     "name": "stdout",
     "output_type": "stream",
     "text": [
      "Verilen noktalar: (4, 9) and (4, 5).\n",
      "En küçük Euclidean mesafesi: 4.0\n"
     ]
    }
   ],
   "source": [
    "import math\n",
    "\n",
    "def euclideanDistance(point1, point2):\n",
    "    return math.sqrt((point2[0] - point1[0]) ** 2 + (point2[1] - point1[1]) ** 2)\n",
    "\n",
    "points = [(4,9), (4,5)]\n",
    "\n",
    "distances = []\n",
    "\n",
    "for i in range(len(points)):\n",
    "    for j in range(i + 1, len(points)):\n",
    "        distance = euclideanDistance(points[i], points[j])\n",
    "        distances.append(distance)\n",
    "\n",
    "min_distance = min(distances)\n",
    "\n",
    "print(f\"Verilen noktalar: {points[0]} and {points[1]}\")\n",
    "print(f\"En küçük Euclidean mesafesi: {min_distance}\")"
   ]
  }
 ],
 "metadata": {
  "kernelspec": {
   "display_name": "Python 3 (ipykernel)",
   "language": "python",
   "name": "python3"
  },
  "language_info": {
   "codemirror_mode": {
    "name": "ipython",
    "version": 3
   },
   "file_extension": ".py",
   "mimetype": "text/x-python",
   "name": "python",
   "nbconvert_exporter": "python",
   "pygments_lexer": "ipython3",
   "version": "3.12.4"
  }
 },
 "nbformat": 4,
 "nbformat_minor": 5
}
